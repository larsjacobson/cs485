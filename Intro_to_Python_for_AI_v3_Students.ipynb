{
  "cells": [
    {
      "cell_type": "markdown",
      "metadata": {
        "id": "view-in-github",
        "colab_type": "text"
      },
      "source": [
        "<a href=\"https://colab.research.google.com/github/larsjacobson/cs485/blob/main/Intro_to_Python_for_AI_v3_Students.ipynb\" target=\"_parent\"><img src=\"https://colab.research.google.com/assets/colab-badge.svg\" alt=\"Open In Colab\"/></a>"
      ]
    },
    {
      "cell_type": "markdown",
      "id": "0fdd9950",
      "metadata": {
        "id": "0fdd9950"
      },
      "source": [
        "#  Introduction to Python for AI\n",
        "Welcome to your first hands-on session with Python! In this notebook, you'll learn basic Python concepts while connecting them to Artificial Intelligence themes."
      ]
    },
    {
      "cell_type": "markdown",
      "id": "ce83f1bf",
      "metadata": {
        "id": "ce83f1bf"
      },
      "source": [
        "## 1. Hello Python\n",
        "Let's start with the traditional first program."
      ]
    },
    {
      "cell_type": "code",
      "execution_count": null,
      "id": "41583cc2",
      "metadata": {
        "id": "41583cc2",
        "colab": {
          "base_uri": "https://localhost:8080/"
        },
        "outputId": "35e58584-39e8-4521-b75c-d899a2fed6d7"
      },
      "outputs": [
        {
          "output_type": "stream",
          "name": "stdout",
          "text": [
            "Hello, AI World 2025!\n"
          ]
        }
      ],
      "source": [
        "print('Hello, AI World 2025!')"
      ]
    },
    {
      "cell_type": "markdown",
      "id": "96d1b02c",
      "metadata": {
        "id": "96d1b02c"
      },
      "source": [
        "## 2. Variables and Data Types\n",
        "In AI, we often work with numbers, text, and logical values. Let's try them in Python."
      ]
    },
    {
      "cell_type": "code",
      "execution_count": null,
      "id": "dd3d142e",
      "metadata": {
        "id": "dd3d142e",
        "colab": {
          "base_uri": "https://localhost:8080/"
        },
        "outputId": "b98ff60b-0e46-4d06-c61d-019a4a2c1c7f"
      },
      "outputs": [
        {
          "output_type": "stream",
          "name": "stdout",
          "text": [
            "Alice 30 False\n"
          ]
        }
      ],
      "source": [
        "age = 30\n",
        "name = 'Alice'\n",
        "ai_course = False\n",
        "print(name, age, ai_course)"
      ]
    },
    {
      "cell_type": "markdown",
      "id": "b321b4b7",
      "metadata": {
        "id": "b321b4b7"
      },
      "source": [
        "**Question:** Change the values of `age` and `name` to your own. What happens when you run the code?"
      ]
    },
    {
      "cell_type": "markdown",
      "id": "d752c841",
      "metadata": {
        "id": "d752c841"
      },
      "source": [
        "## 3. Lists and Loops\n",
        "AI often processes lists of data. Let's square some numbers."
      ]
    },
    {
      "cell_type": "code",
      "execution_count": null,
      "id": "72581afb",
      "metadata": {
        "id": "72581afb",
        "colab": {
          "base_uri": "https://localhost:8080/"
        },
        "outputId": "49de6ce1-0401-468f-b7a1-e833398f3112"
      },
      "outputs": [
        {
          "output_type": "stream",
          "name": "stdout",
          "text": [
            "1\n",
            "2\n",
            "4\n",
            "4\n",
            "9\n",
            "6\n",
            "16\n",
            "8\n",
            "25\n",
            "10\n",
            "36\n",
            "12\n"
          ]
        }
      ],
      "source": [
        "numbers = [1, 2, 3, 4, 5, 6]\n",
        "for n in numbers:\n",
        "    print(n**2)\n",
        "    print(n*2)"
      ]
    },
    {
      "cell_type": "markdown",
      "id": "38b9f526",
      "metadata": {
        "id": "38b9f526"
      },
      "source": [
        "**Question:** Add more numbers to the list. What happens to the output?"
      ]
    },
    {
      "cell_type": "markdown",
      "id": "f05a1e95",
      "metadata": {
        "id": "f05a1e95"
      },
      "source": [
        "## 4. Functions\n",
        "Functions let us reuse logic — just like AI models are reusable."
      ]
    },
    {
      "cell_type": "code",
      "execution_count": null,
      "id": "ab1040f9",
      "metadata": {
        "id": "ab1040f9",
        "colab": {
          "base_uri": "https://localhost:8080/"
        },
        "outputId": "a548cfa5-47bf-4b72-cf9d-882e7969cad2"
      },
      "outputs": [
        {
          "output_type": "stream",
          "name": "stdout",
          "text": [
            "16384\n"
          ]
        }
      ],
      "source": [
        "def add_numbers(a, b):\n",
        "    return a**b\n",
        "\n",
        "def add_numbersa(a, b):\n",
        "    return a\n",
        "\n",
        "def add_numbersb(a, b):\n",
        "    return b\n",
        "\n",
        "print(add_numbers(4, 7))"
      ]
    },
    {
      "cell_type": "markdown",
      "id": "ddfd3ec6",
      "metadata": {
        "id": "ddfd3ec6"
      },
      "source": [
        "**Question:** Write a new function `multiply_numbers(a, b)` that multiplies two numbers."
      ]
    },
    {
      "cell_type": "markdown",
      "id": "a4ff2cd4",
      "metadata": {
        "id": "a4ff2cd4"
      },
      "source": [
        "## 5. Working with Text (NLP)\n",
        "Natural Language Processing often breaks sentences into words."
      ]
    },
    {
      "cell_type": "code",
      "execution_count": null,
      "id": "b2910f02",
      "metadata": {
        "id": "b2910f02",
        "colab": {
          "base_uri": "https://localhost:8080/"
        },
        "outputId": "a0234656-c475-4b47-ef10-8710daca16ae"
      },
      "outputs": [
        {
          "output_type": "stream",
          "name": "stdout",
          "text": [
            "['AI', 'is', 'transforming,theworld']\n",
            "Number of words: 3\n"
          ]
        }
      ],
      "source": [
        "sentence = 'AI is transforming,theworld'\n",
        "words = sentence.split()\n",
        "print(words)\n",
        "print('Number of words:', len(words))\n"
      ]
    },
    {
      "cell_type": "markdown",
      "id": "3e1762ef",
      "metadata": {
        "id": "3e1762ef"
      },
      "source": [
        "**Question:** Replace the sentence with your own. How many words does it have?"
      ]
    },
    {
      "cell_type": "markdown",
      "id": "61cd21e1",
      "metadata": {
        "id": "61cd21e1"
      },
      "source": [
        "## 6. Randomness and Probability (Uncertainty)\n",
        "AI sometimes makes decisions under uncertainty."
      ]
    },
    {
      "cell_type": "code",
      "execution_count": null,
      "id": "4101d6d4",
      "metadata": {
        "id": "4101d6d4",
        "colab": {
          "base_uri": "https://localhost:8080/"
        },
        "outputId": "fd3a8d1a-7783-463f-c1a5-6b17d7ab4560"
      },
      "outputs": [
        {
          "output_type": "stream",
          "name": "stdout",
          "text": [
            "spam\n"
          ]
        }
      ],
      "source": [
        "import random\n",
        "outcomes = ['spam', 'not spam', 'something else']\n",
        "print(random.choice(outcomes))"
      ]
    },
    {
      "cell_type": "markdown",
      "id": "527c8f54",
      "metadata": {
        "id": "527c8f54"
      },
      "source": [
        "**Question:** Run the cell several times. Do you always get the same result? Why or why not?"
      ]
    },
    {
      "cell_type": "markdown",
      "id": "bdbf2b48",
      "metadata": {
        "id": "bdbf2b48"
      },
      "source": [
        "## 7. Simple Search\n",
        "Search is fundamental in AI. Let's see if 'AI' is in a list."
      ]
    },
    {
      "cell_type": "code",
      "execution_count": null,
      "id": "12ffb157",
      "metadata": {
        "id": "12ffb157",
        "colab": {
          "base_uri": "https://localhost:8080/"
        },
        "outputId": "b2f34a21-a390-4941-baa2-df6a9eafe9bf"
      },
      "outputs": [
        {
          "output_type": "stream",
          "name": "stdout",
          "text": [
            "Found AI!\n"
          ]
        }
      ],
      "source": [
        "sentence = 'AI is transforming the world'\n",
        "words = sentence.split()\n",
        "if 'AI' in words:\n",
        "    print('Found AI!')"
      ]
    },
    {
      "cell_type": "markdown",
      "id": "3c02ceed",
      "metadata": {
        "id": "3c02ceed"
      },
      "source": [
        "**Question:** Add a new topic to the list and check if it can be found."
      ]
    },
    {
      "cell_type": "markdown",
      "id": "eb6db50b",
      "metadata": {
        "id": "eb6db50b"
      },
      "source": [
        "## 8. Mini Optimization\n",
        "AI often finds the 'best' solution. Here we find the number closest to 10."
      ]
    },
    {
      "cell_type": "code",
      "execution_count": null,
      "id": "83c179dc",
      "metadata": {
        "id": "83c179dc",
        "colab": {
          "base_uri": "https://localhost:8080/"
        },
        "outputId": "bbe8d97c-a47e-4a8b-ae22-116677e440d4"
      },
      "outputs": [
        {
          "output_type": "stream",
          "name": "stdout",
          "text": [
            "Best guess: 12\n"
          ]
        }
      ],
      "source": [
        "guesses = [3, 12, 8, 15]\n",
        "best = min(guesses, key=lambda x: abs(x-10))\n",
        "print('Best guess:', best)"
      ]
    },
    {
      "cell_type": "markdown",
      "id": "ffd57bb2",
      "metadata": {
        "id": "ffd57bb2"
      },
      "source": [
        "**Question:** Change the list of guesses. Does the program still find the closest number to 10?"
      ]
    },
    {
      "cell_type": "markdown",
      "id": "60d7eb94",
      "metadata": {
        "id": "60d7eb94"
      },
      "source": [
        "## 10. Using Python Libraries\n",
        "Python has many powerful libraries that extend its capabilities. For example, `math` for mathematics, `random` for randomness, and `numpy` for numerical computing."
      ]
    },
    {
      "cell_type": "code",
      "execution_count": null,
      "id": "7c2742d7",
      "metadata": {
        "id": "7c2742d7",
        "colab": {
          "base_uri": "https://localhost:8080/"
        },
        "outputId": "b297efd5-60d8-470b-bf43-1fc982fe914c"
      },
      "outputs": [
        {
          "output_type": "stream",
          "name": "stdout",
          "text": [
            "Square root of 16 is 4.0\n",
            "Numpy array: [1 2 3 4]\n",
            "Mean of array: 2.5\n"
          ]
        }
      ],
      "source": [
        "import math\n",
        "print('Square root of 16 is', math.sqrt(16))\n",
        "\n",
        "import numpy as np\n",
        "array = np.array([1, 2, 3, 4])\n",
        "print('Numpy array:', array)\n",
        "print('Mean of array:', np.mean(array))"
      ]
    },
    {
      "cell_type": "markdown",
      "id": "34f371a4",
      "metadata": {
        "id": "34f371a4"
      },
      "source": [
        "**Question:** Try using `math.factorial(5)` or `np.max(array)`. What do you get?"
      ]
    },
    {
      "cell_type": "markdown",
      "id": "9fd7f232",
      "metadata": {
        "id": "9fd7f232"
      },
      "source": [
        "## 11. File Read and Write\n",
        "AI often works with data stored in files. Let's see how to write to a file and then read it back."
      ]
    },
    {
      "cell_type": "code",
      "execution_count": null,
      "id": "2b97b63e",
      "metadata": {
        "id": "2b97b63e",
        "colab": {
          "base_uri": "https://localhost:8080/"
        },
        "outputId": "a6fbb317-0497-4f12-f297-b2ef74294049"
      },
      "outputs": [
        {
          "output_type": "stream",
          "name": "stdout",
          "text": [
            "File content: Hello AI class!\n"
          ]
        }
      ],
      "source": [
        "# Writing to a file\n",
        "with open('sample.txt', 'w') as f:\n",
        "    f.write('Hello AI class!')\n",
        "\n",
        "# Reading from the file\n",
        "with open('sample.txt', 'r') as f:\n",
        "    content = f.read()\n",
        "\n",
        "print('File content:', content)"
      ]
    },
    {
      "cell_type": "markdown",
      "id": "ff5538a0",
      "metadata": {
        "id": "ff5538a0"
      },
      "source": [
        "**Question:** Change the text written to the file. Re-run and check the output when you read the file."
      ]
    },
    {
      "cell_type": "markdown",
      "id": "3937c8f0",
      "metadata": {
        "id": "3937c8f0"
      },
      "source": [
        "## 🔥 Bonus Challenges\n",
        "These optional exercises are designed for students who finish early or want an extra challenge."
      ]
    },
    {
      "cell_type": "markdown",
      "id": "9f226449",
      "metadata": {
        "id": "9f226449"
      },
      "source": [
        "### Challenge 1: Random Numbers Analysis\n",
        "Generate 100 random numbers between 0 and 1. Count how many are greater than 0.5."
      ]
    },
    {
      "cell_type": "code",
      "execution_count": null,
      "id": "0a93f987",
      "metadata": {
        "id": "0a93f987"
      },
      "outputs": [],
      "source": [
        "# Your Code\n"
      ]
    },
    {
      "cell_type": "markdown",
      "id": "67147b15",
      "metadata": {
        "id": "67147b15"
      },
      "source": [
        "### Challenge 2: NumPy Statistics\n",
        "Create a NumPy array of 10 random integers between 1 and 100. Find the mean, maximum, and minimum."
      ]
    },
    {
      "cell_type": "code",
      "execution_count": null,
      "id": "ec85777e",
      "metadata": {
        "id": "ec85777e"
      },
      "outputs": [],
      "source": [
        "# Your Code"
      ]
    },
    {
      "cell_type": "markdown",
      "id": "6266e72c",
      "metadata": {
        "id": "6266e72c"
      },
      "source": [
        "### Challenge 3: File Extension\n",
        "Modify the file-writing code so that it writes **your name** and **favorite hobby** to the file. Then read it back and print a sentence like:\n",
        "\n",
        "`Hello, my name is Khalil and I enjoy painting.`"
      ]
    },
    {
      "cell_type": "markdown",
      "id": "93f3e795",
      "metadata": {
        "id": "93f3e795"
      },
      "source": [
        "## 9. Wrap-up\n",
        "In this session you:\n",
        "- Printed messages with Python\n",
        "- Used variables and data types\n",
        "- Worked with lists and loops\n",
        "- Wrote and used functions\n",
        "- Explored text (NLP), randomness (Uncertainty), search, and optimization\n",
        "\n",
        "👉 These are the **building blocks** of Python that will help us explore AI concepts later!"
      ]
    }
  ],
  "metadata": {
    "colab": {
      "provenance": [],
      "include_colab_link": true
    },
    "language_info": {
      "name": "python"
    },
    "kernelspec": {
      "name": "python3",
      "display_name": "Python 3"
    }
  },
  "nbformat": 4,
  "nbformat_minor": 5
}